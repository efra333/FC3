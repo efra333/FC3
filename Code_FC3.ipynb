{
  "cells": [
    {
      "cell_type": "markdown",
      "metadata": {
        "id": "mkftge7NvIe8"
      },
      "source": []
    },
    {
      "cell_type": "markdown",
      "metadata": {
        "id": "gdo_UmzlvIfA"
      },
      "source": [
        "As always first import the libraries, in this case the library networkx helps a lot in the uses of graphs"
      ]
    },
    {
      "cell_type": "code",
      "execution_count": null,
      "metadata": {
        "id": "dbkOUdV0vIfC"
      },
      "outputs": [],
      "source": [
        "import random\n",
        "from networkx import Graph\n",
        "import numpy as np\n",
        "import pandas as pd\n",
        "import operator"
      ]
    },
    {
      "cell_type": "markdown",
      "metadata": {
        "id": "emEFW3axvIfF"
      },
      "source": [
        "First we define our class node which has a name and neighbor nodes, a mehtod to get the times with its respective neighbors and its representation"
      ]
    },
    {
      "cell_type": "code",
      "execution_count": null,
      "metadata": {
        "id": "LNwfrTJHvIfH"
      },
      "outputs": [],
      "source": [
        "class Node:\n",
        "    def __init__(self, name, neighbors):\n",
        "        self.name = name\n",
        "        self.neighbors = neighbors\n",
        "    def travel_time(self, node):\n",
        "        return self.neighbors[node.name]['time'] #travel time to neighbours\n",
        "    def __repr__(self):\n",
        "        return \"(\" + str(self.name) + \")\""
      ]
    },
    {
      "cell_type": "markdown",
      "metadata": {
        "id": "ocI1lpG1vIfJ"
      },
      "source": [
        "Then we define our graph"
      ]
    },
    {
      "cell_type": "code",
      "execution_count": null,
      "metadata": {
        "id": "SeoNh_TlvIfK"
      },
      "outputs": [],
      "source": [
        "graph = Graph()\n",
        "graph.add_edge(\"Rosario\", \"Instituto del petroleo\", time=6)\n",
        "graph.add_edge(\"Instituto del petroleo\", \"La Raza\", time=2)\n",
        "graph.add_edge(\"La Raza\", \"Guerrero\", time=2)\n",
        "graph.add_edge(\"Guerrero\", \"Hidalgo\", time=1)\n",
        "graph.add_edge(\"Hidalgo\", \"Tacuba\", time=7)\n",
        "graph.add_edge(\"Tacuba\", \"Rosario\", time=4)\n",
        "graph.add_edge(\"Deportivo 18 de marzo\", \"Instituto del petroleo\", time=2)\n",
        "graph.add_edge(\"Deportivo 18 de marzo\", \"La Raza\", time=2)\n",
        "graph.add_edge(\"Martin Carrera\", \"Deportivo 18 de marzo\", time=2)\n",
        "graph.add_edge(\"Martin Carrera\", \"Consulado\", time=3)\n",
        "graph.add_edge(\"Consulado\", \"La Raza\", time=3)\n",
        "graph.add_edge(\"Consulado\", \"Oceania\", time=3)\n",
        "graph.add_edge(\"Consulado\", \"Morelos\", time=2)\n",
        "graph.add_edge(\"Garibaldi\", \"Guerrero\", time=1)\n",
        "graph.add_edge(\"Garibaldi\", \"Morelos\", time=3)\n",
        "graph.add_edge(\"Oceania\", \"San Lazaro\", time=3)\n",
        "graph.add_edge(\"Morelos\", \"San Lazaro\", time=1)\n",
        "graph.add_edge(\"Pantitlan\", \"Oceania\", time=3)\n",
        "graph.add_edge(\"Pantitlan\", \"San Lazaro\", time=6)\n",
        "graph.add_edge(\"Candelaria\", \"San Lazaro\", time=1)\n",
        "graph.add_edge(\"Candelaria\", \"Morelos\", time=1)\n",
        "graph.add_edge(\"Pino Suarez\", \"Candelaria\", time=2)\n",
        "graph.add_edge(\"Pino Suarez\", \"Bellas artes\", time=3)\n",
        "graph.add_edge(\"Bellas artes\", \"Garibaldi\", time=1)\n",
        "graph.add_edge(\"Bellas artes\", \"Hidalgo\", time=1)\n",
        "graph.add_edge(\"Salto del agua\", \"Bellas artes\", time=2)\n",
        "graph.add_edge(\"Salto del agua\", \"Pino Suarez\", time=2)\n",
        "graph.add_edge(\"Balderas\", \"Hidalgo\", time=2)\n",
        "graph.add_edge(\"Balderas\", \"Salto del agua\", time=1)\n",
        "graph.add_edge(\"Balderas\", \"Tacubaya\", time=6)\n",
        "graph.add_edge(\"Tacuba\", \"Tacubaya\", time=5)\n",
        "graph.add_edge(\"Centro medico\", \"Tacubaya\", time=3)\n",
        "graph.add_edge(\"Centro medico\", \"Balderas\", time=3)\n",
        "graph.add_edge(\"Centro medico\", \"Chabacano\", time=2)\n",
        "graph.add_edge(\"Salto del agua\", \"Chabacano\", time=3)\n",
        "graph.add_edge(\"Pino Suarez\", \"Chabacano\", time=2)\n",
        "graph.add_edge(\"Jamaica\", \"Candelaria\", time=2)\n",
        "graph.add_edge(\"Jamaica\", \"Chabacano\", time=1)\n",
        "graph.add_edge(\"Jamaica\", \"Pantitlan\", time=5)\n",
        "graph.add_edge(\"Baja jamaica\", \"Chabacano\", time=2)\n",
        "graph.add_edge(\"Baja jamaica\", \"Jamaica\", time=1)\n",
        "graph.add_edge(\"Tacubaya\", \"Mixcoac\", time=3)\n",
        "graph.add_edge(\"Zapata\", \"Mixcoac\", time=3)\n",
        "graph.add_edge(\"Zapata\", \"Centro medico\", time=4)\n",
        "graph.add_edge(\"Zapata\", \"Ermita\", time=3)\n",
        "graph.add_edge(\"Ermita\", \"Chabacano\", time=6)\n",
        "graph.add_edge(\"Ermita\", \"Atlalilco\", time=2)\n",
        "graph.add_edge(\"Baja jamaica\", \"Atlalilco\", time=6)"
      ]
    },
    {
      "cell_type": "markdown",
      "metadata": {
        "id": "ZpL459OtvIfN"
      },
      "source": [
        "Now we can see the list of nodes that we have"
      ]
    },
    {
      "cell_type": "code",
      "execution_count": null,
      "metadata": {
        "colab": {
          "base_uri": "https://localhost:8080/"
        },
        "id": "bG-uFNelvIfP",
        "outputId": "e705077f-f299-4c12-c29f-ad7e657dba4e"
      },
      "outputs": [
        {
          "output_type": "stream",
          "name": "stdout",
          "text": [
            "[(Rosario), (Instituto del petroleo), (La Raza), (Guerrero), (Hidalgo), (Tacuba), (Deportivo 18 de marzo), (Martin Carrera), (Consulado), (Oceania), (Morelos), (Garibaldi), (San Lazaro), (Pantitlan), (Candelaria), (Pino Suarez), (Bellas artes), (Salto del agua), (Balderas), (Tacubaya), (Centro medico), (Chabacano), (Jamaica), (Baja jamaica), (Mixcoac), (Zapata), (Ermita), (Atlalilco)]\n"
          ]
        }
      ],
      "source": [
        "nodeList = [Node(n, {nbr: graph.edges[n, nbr] for nbr in graph.neighbors(n)}) for n in graph.nodes()]\n",
        "print(str(nodeList))"
      ]
    },
    {
      "cell_type": "markdown",
      "metadata": {
        "id": "ELlWUFVSvIfS"
      },
      "source": [
        "Lets define the the departure node and the destination node, based on the list of the nodes list"
      ]
    },
    {
      "cell_type": "code",
      "execution_count": null,
      "metadata": {
        "id": "jjWCvOAevIfU"
      },
      "outputs": [],
      "source": [
        "def find_index(node: str) -> int:\n",
        "    for i in range(len(nodeList)):\n",
        "        if(node in nodeList[i].name):\n",
        "            return i\n",
        "\n",
        "start_node_index = find_index(\"Zapata\")\n",
        "end_node_index = find_index(\"Chabacano\")"
      ]
    },
    {
      "cell_type": "markdown",
      "metadata": {
        "id": "2f3xgyWsvIfV"
      },
      "source": [
        "Then we have our initialPopulation and generateGenome function to initialize a population of genomes"
      ]
    },
    {
      "cell_type": "code",
      "execution_count": null,
      "metadata": {
        "id": "qxF7hDJ3vIfW"
      },
      "outputs": [],
      "source": [
        "def createGenome(nodeList):\n",
        "    genome = []\n",
        "    remaining_nodes = nodeList.copy()\n",
        "\n",
        "    current_node = remaining_nodes[start_node_index]\n",
        "    remaining_nodes.remove(current_node)\n",
        "    genome.append(current_node)\n",
        "\n",
        "    while remaining_nodes:\n",
        "      available_nodes = [node for node in remaining_nodes if node.name in current_node.neighbors]\n",
        "      if not available_nodes:\n",
        "          # if no available cities, return None\n",
        "          return None\n",
        "      next_node = random.choice(available_nodes)\n",
        "      if(next_node == nodeList[end_node_index]):\n",
        "          genome.append(next_node)\n",
        "          return genome\n",
        "      else:\n",
        "        genome.append(next_node)\n",
        "        remaining_nodes.remove(next_node)\n",
        "        current_node = next_node\n",
        "\n",
        "    return genome\n",
        "\n",
        "def initialPopulation(popSize, nodeList):\n",
        "    population = []\n",
        "    while len(population) < popSize:\n",
        "        genome = createGenome(nodeList)\n",
        "        if genome is not None:\n",
        "            population.append(genome)\n",
        "    return population"
      ]
    },
    {
      "cell_type": "markdown",
      "metadata": {
        "id": "NlndbheMvIfX"
      },
      "source": [
        "our fitness class that will check the fitness of the genome"
      ]
    },
    {
      "cell_type": "code",
      "execution_count": null,
      "metadata": {
        "id": "HaT_AZ7ivIfZ"
      },
      "outputs": [],
      "source": [
        "class Fitness:\n",
        "    def __init__(self, genome):\n",
        "        self.genome = genome\n",
        "        self.time = 0\n",
        "        self.fitness = 0.0\n",
        "\n",
        "    def routeDistance(self):\n",
        "        path_time = 0\n",
        "        for i in range(0, len(self.genome)):\n",
        "            fromNode = self.genome[i]\n",
        "            if i + 1 < len(self.genome):\n",
        "                toCity = self.genome[i + 1]\n",
        "            if toCity.name in fromNode.neighbors:\n",
        "                path_time += fromNode.travel_time(toCity)\n",
        "        self.time = path_time\n",
        "        return  self.time\n",
        "\n",
        "    def routeFitness(self):\n",
        "        if self.fitness == 0:\n",
        "            time = self.routeDistance()\n",
        "            if time > 40:\n",
        "                self.fitness = 0\n",
        "            else:\n",
        "                self.fitness = 1 / float(time)\n",
        "        return self.fitness"
      ]
    },
    {
      "cell_type": "markdown",
      "metadata": {
        "id": "Ot4y4hgAvIfb"
      },
      "source": [
        "This function will help us to rank the genomes by their fitness function, meaning that the first genomes are closer to the solution compared to the others."
      ]
    },
    {
      "cell_type": "code",
      "execution_count": null,
      "metadata": {
        "id": "BdHE75z4vIfb"
      },
      "outputs": [],
      "source": [
        "def rankGenomes(population):\n",
        "    fitnessResults = {}\n",
        "    for i in range(0,len(population)):\n",
        "        fitnessResults[i] = Fitness(population[i]).routeFitness()\n",
        "\n",
        "    sorted_results=sorted(fitnessResults.items(), key = operator.itemgetter(1), reverse = True)\n",
        "    return sorted_results"
      ]
    },
    {
      "cell_type": "markdown",
      "metadata": {
        "id": "qMUASrccvIfd"
      },
      "source": []
    },
    {
      "cell_type": "code",
      "execution_count": null,
      "metadata": {
        "id": "rDJx0Or5vIfd"
      },
      "outputs": [],
      "source": [
        "def selection(popRanked, eliteSize):\n",
        "    selectionResults = []\n",
        "    df = pd.DataFrame(np.array(popRanked), columns=[\"Index\",\"Fitness\"])\n",
        "    df['cum_sum'] = df.Fitness.cumsum()\n",
        "    df['cum_perc'] = 100*df.cum_sum/df.Fitness.sum()\n",
        "\n",
        "    for i in range(0, eliteSize):\n",
        "        selectionResults.append(popRanked[i][0])\n",
        "    for i in range(0, len(popRanked) - eliteSize):\n",
        "        pick = 100*random.random()\n",
        "        for i in range(0, len(popRanked)):\n",
        "            if pick <= df.iat[i,3]:\n",
        "                selectionResults.append(popRanked[i][0])\n",
        "                break\n",
        "    return selectionResults"
      ]
    },
    {
      "cell_type": "markdown",
      "metadata": {
        "id": "sAHLl-s3vIff"
      },
      "source": []
    },
    {
      "cell_type": "code",
      "execution_count": null,
      "metadata": {
        "id": "Q81VOvtHvIfg"
      },
      "outputs": [],
      "source": [
        "def matingPool(population, selectionResults):\n",
        "    matingpool = []\n",
        "    for i in range(0, len(selectionResults)):\n",
        "        index = selectionResults[i]\n",
        "        matingpool.append(population[index])\n",
        "    return matingpool"
      ]
    },
    {
      "cell_type": "markdown",
      "metadata": {
        "id": "zkczfIUjvIfg"
      },
      "source": []
    },
    {
      "cell_type": "code",
      "execution_count": null,
      "metadata": {
        "id": "SUfZW3oMvIfh"
      },
      "outputs": [],
      "source": [
        "def crossover(parent1, parent2):\n",
        "    child = []\n",
        "    childP1 = []\n",
        "    childP2 = []\n",
        "\n",
        "    geneA = int(random.random() * len(parent1))\n",
        "    geneB = int(random.random() * len(parent1))\n",
        "\n",
        "    startGene = min(geneA, geneB)\n",
        "    endGene = max(geneA, geneB)\n",
        "\n",
        "    for i in range(startGene, endGene):\n",
        "        childP1.append(parent1[i])\n",
        "\n",
        "    childP2 = [item for item in parent2 if item not in childP1]\n",
        "\n",
        "    child = childP1 + childP2\n",
        "    return child"
      ]
    },
    {
      "cell_type": "markdown",
      "metadata": {
        "id": "EDjfaA1fvIfh"
      },
      "source": []
    },
    {
      "cell_type": "code",
      "execution_count": null,
      "metadata": {
        "id": "vc7FSxInvIfi"
      },
      "outputs": [],
      "source": [
        "def cross_Population(matingpool, eliteSize):\n",
        "    children = []\n",
        "    length = len(matingpool) - eliteSize\n",
        "    pool = random.sample(matingpool, len(matingpool))\n",
        "\n",
        "    for i in range(0,eliteSize):\n",
        "        children.append(matingpool[i])\n",
        "\n",
        "    for i in range(0, length):\n",
        "        child = crossover(pool[i], pool[len(matingpool)-i-1])\n",
        "\n",
        "        # Verificar si todos los nodos en la ruta son vecinos\n",
        "        valid_child = all(node1.name in node2.neighbors for node1, node2 in zip(child[:-1], child[1:]))\n",
        "\n",
        "        if valid_child:\n",
        "            children.append(child)\n",
        "        else:\n",
        "            # Descartar el hijo generado y volver a intentar con nuevos padres\n",
        "            continue\n",
        "\n",
        "    return children"
      ]
    },
    {
      "cell_type": "markdown",
      "metadata": {
        "id": "1rTmSzgEvIfi"
      },
      "source": []
    },
    {
      "cell_type": "code",
      "execution_count": null,
      "metadata": {
        "id": "d5O0wSuAvIfj"
      },
      "outputs": [],
      "source": [
        "def mutate(individual, mutationRate):\n",
        "    for swapped in range(len(individual)):\n",
        "        if(random.random() < mutationRate):\n",
        "            swapWith = int(random.random() * len(individual))\n",
        "\n",
        "            node1 = individual[swapped]\n",
        "            node2 = individual[swapWith]\n",
        "\n",
        "            # Verificar si los nodos adyacentes son vecinos antes de realizar la mutación\n",
        "            if (swapped == 0 or node2.name in individual[swapped - 1].neighbors) and \\\n",
        "               (swapped == len(individual) - 1 or node2.name in individual[swapped + 1].neighbors) and \\\n",
        "               (swapWith == 0 or node1.name in individual[swapWith - 1].neighbors) and \\\n",
        "               (swapWith == len(individual) - 1 or node1.name in individual[swapWith + 1].neighbors):\n",
        "\n",
        "                individual[swapped] = node2\n",
        "                individual[swapWith] = node1\n",
        "            else:\n",
        "              continue\n",
        "\n",
        "    return individual"
      ]
    },
    {
      "cell_type": "markdown",
      "metadata": {
        "id": "FY14e779vIfk"
      },
      "source": []
    },
    {
      "cell_type": "code",
      "execution_count": null,
      "metadata": {
        "id": "0gF_RYeyvIfk"
      },
      "outputs": [],
      "source": [
        "def mutatePopulation(population, mutationRate):\n",
        "    mutatedPop = []\n",
        "\n",
        "    for ind in range(0, len(population)):\n",
        "        mutatedInd = mutate(population[ind], mutationRate)\n",
        "        mutatedPop.append(mutatedInd)\n",
        "    return mutatedPop"
      ]
    },
    {
      "cell_type": "markdown",
      "metadata": {
        "id": "x361qRJ3vIfl"
      },
      "source": []
    },
    {
      "cell_type": "code",
      "execution_count": null,
      "metadata": {
        "id": "w82aknv_vIfl"
      },
      "outputs": [],
      "source": [
        "def nextGeneration(currentGen, eliteSize, mutationRate):\n",
        "    popRanked = rankGenomes(currentGen)\n",
        "    selectionResults = selection(popRanked, eliteSize)\n",
        "    matingpool = matingPool(currentGen, selectionResults)\n",
        "    children = cross_Population(matingpool, eliteSize)\n",
        "    nextGeneration = mutatePopulation(children, mutationRate)\n",
        "    return nextGeneration"
      ]
    },
    {
      "cell_type": "markdown",
      "metadata": {
        "id": "3J7KjK6yvIfm"
      },
      "source": []
    },
    {
      "cell_type": "code",
      "execution_count": null,
      "metadata": {
        "id": "yLc3eFhKvIfm"
      },
      "outputs": [],
      "source": [
        "def geneticAlgorithm(population, popSize, eliteSize, mutationRate, generations):\n",
        "    pop = initialPopulation(popSize, population)\n",
        "    progress = []\n",
        "    progress.append(rankGenomes(pop)[0][1])\n",
        "\n",
        "    for i in range(0, generations):\n",
        "        pop = nextGeneration(pop, eliteSize, mutationRate)\n",
        "        best_fitness = rankGenomes(pop)[0][1]\n",
        "        progress.append(best_fitness)\n",
        "        best_genome_index = rankGenomes(pop)[0][0]\n",
        "        best_genome = pop[best_genome_index]\n",
        "        best_genome_fitness = Fitness(best_genome)\n",
        "        best_genome_time = best_genome_fitness.routeDistance()\n",
        "\n",
        "    best_genome_index = rankGenomes(pop)[0][0]\n",
        "    best_genome = pop[best_genome_index]\n",
        "    return best_genome"
      ]
    },
    {
      "cell_type": "markdown",
      "metadata": {
        "id": "4H0pmlw5vIfn"
      },
      "source": []
    },
    {
      "cell_type": "code",
      "execution_count": null,
      "metadata": {
        "id": "ZKXUaTG8vIfn",
        "outputId": "48790db1-5e3d-4998-f14d-a59bfa3ddb44",
        "colab": {
          "base_uri": "https://localhost:8080/"
        }
      },
      "outputs": [
        {
          "output_type": "stream",
          "name": "stdout",
          "text": [
            "Best Route:\n",
            "['Chabacano', 'Centro medico', 'Zapata']\n",
            "Best Route Time: 6\n"
          ]
        }
      ],
      "source": [
        "best_genome = geneticAlgorithm(population=nodeList, popSize=100, eliteSize=40, mutationRate=0.3, generations=50)\n",
        "\n",
        "# Obtener el tiempo del mejor recorrido\n",
        "best_genome_fitness = Fitness(best_genome)\n",
        "best_genome_time = best_genome_fitness.routeDistance()\n",
        "\n",
        "print(\"Best Route:\")\n",
        "print([city.name for city in best_genome])\n",
        "print(\"Best Route Time:\", best_genome_time)\n",
        "\n"
      ]
    },
    {
      "cell_type": "code",
      "source": [],
      "metadata": {
        "id": "PoA5ARC6uX7W"
      },
      "execution_count": null,
      "outputs": []
    },
    {
      "cell_type": "code",
      "source": [],
      "metadata": {
        "id": "8TT0PSRHjZ97"
      },
      "execution_count": null,
      "outputs": []
    }
  ],
  "metadata": {
    "kernelspec": {
      "display_name": "Python 3",
      "language": "python",
      "name": "python3"
    },
    "language_info": {
      "codemirror_mode": {
        "name": "ipython",
        "version": 3
      },
      "file_extension": ".py",
      "mimetype": "text/x-python",
      "name": "python",
      "nbconvert_exporter": "python",
      "pygments_lexer": "ipython3",
      "version": "3.11.8"
    },
    "colab": {
      "provenance": []
    }
  },
  "nbformat": 4,
  "nbformat_minor": 0
}